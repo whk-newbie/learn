{
 "cells": [
  {
   "cell_type": "code",
   "execution_count": 2,
   "metadata": {},
   "outputs": [
    {
     "name": "stdout",
     "output_type": "stream",
     "text": [
      "Loading data...\n",
      "25000 train sequences\n",
      "25000 test sequences\n",
      "Pad sequences (samples x time)\n",
      "x_trian shape: (25000, 500)\n",
      "x_test shape: (25000, 500)\n"
     ]
    }
   ],
   "source": [
    "from keras.datasets import imdb\n",
    "from keras.preprocessing import sequence\n",
    "\n",
    "max_features = 10000\n",
    "max_len = 500\n",
    "print(\"Loading data...\")\n",
    "(x_train,y_train),(x_test,y_test) = imdb.load_data(num_words=max_features)\n",
    "print(len(x_train),'train sequences')\n",
    "print(len(x_test),'test sequences')\n",
    "\n",
    "print(\"Pad sequences (samples x time)\")\n",
    "x_train = sequence.pad_sequences(x_train,maxlen=max_len)\n",
    "x_test = sequence.pad_sequences(x_test,maxlen=max_len)\n",
    "print('x_trian shape:',x_train.shape)\n",
    "print('x_test shape:',x_test.shape)"
   ]
  },
  {
   "cell_type": "code",
   "execution_count": 3,
   "metadata": {},
   "outputs": [
    {
     "name": "stdout",
     "output_type": "stream",
     "text": [
      "Model: \"sequential\"\n",
      "_________________________________________________________________\n",
      "Layer (type)                 Output Shape              Param #   \n",
      "=================================================================\n",
      "embedding (Embedding)        (None, 500, 128)          1280000   \n",
      "_________________________________________________________________\n",
      "conv1d (Conv1D)              (None, 494, 32)           28704     \n",
      "_________________________________________________________________\n",
      "max_pooling1d (MaxPooling1D) (None, 98, 32)            0         \n",
      "_________________________________________________________________\n",
      "conv1d_1 (Conv1D)            (None, 92, 32)            7200      \n",
      "_________________________________________________________________\n",
      "global_max_pooling1d (Global (None, 32)                0         \n",
      "_________________________________________________________________\n",
      "dense (Dense)                (None, 1)                 33        \n",
      "=================================================================\n",
      "Total params: 1,315,937\n",
      "Trainable params: 1,315,937\n",
      "Non-trainable params: 0\n",
      "_________________________________________________________________\n",
      "Epoch 1/10\n",
      "157/157 [==============================] - 13s 84ms/step - loss: 0.7895 - acc: 0.5152 - val_loss: 0.6883 - val_acc: 0.5178\n",
      "Epoch 2/10\n",
      "157/157 [==============================] - 12s 80ms/step - loss: 0.6688 - acc: 0.6619 - val_loss: 0.6653 - val_acc: 0.6588\n",
      "Epoch 3/10\n",
      "157/157 [==============================] - 13s 82ms/step - loss: 0.6249 - acc: 0.7639 - val_loss: 0.6104 - val_acc: 0.7490\n",
      "Epoch 4/10\n",
      "157/157 [==============================] - 13s 82ms/step - loss: 0.5312 - acc: 0.8221 - val_loss: 0.4854 - val_acc: 0.7960\n",
      "Epoch 5/10\n",
      "157/157 [==============================] - 13s 81ms/step - loss: 0.4077 - acc: 0.8533 - val_loss: 0.4118 - val_acc: 0.8396\n",
      "Epoch 6/10\n",
      "157/157 [==============================] - 13s 81ms/step - loss: 0.3405 - acc: 0.8795 - val_loss: 0.4038 - val_acc: 0.8532\n",
      "Epoch 7/10\n",
      "157/157 [==============================] - 13s 81ms/step - loss: 0.2992 - acc: 0.8948 - val_loss: 0.4216 - val_acc: 0.8594\n",
      "Epoch 8/10\n",
      "157/157 [==============================] - 13s 82ms/step - loss: 0.2654 - acc: 0.9090 - val_loss: 0.4115 - val_acc: 0.8642\n",
      "Epoch 9/10\n",
      "157/157 [==============================] - 12s 80ms/step - loss: 0.2396 - acc: 0.9180 - val_loss: 0.4115 - val_acc: 0.8680\n",
      "Epoch 10/10\n",
      "157/157 [==============================] - 12s 79ms/step - loss: 0.2160 - acc: 0.9291 - val_loss: 0.4222 - val_acc: 0.8698\n"
     ]
    }
   ],
   "source": [
    "from keras.models import Sequential\n",
    "from keras import layers\n",
    "from keras.optimizers import RMSprop\n",
    "\n",
    "model = Sequential()\n",
    "model.add(layers.Embedding(max_features,128,input_length=max_len))\n",
    "model.add(layers.Conv1D(32,7,activation='relu'))\n",
    "model.add(layers.MaxPooling1D(5))\n",
    "model.add(layers.Conv1D(32,7,activation='relu'))\n",
    "model.add(layers.GlobalMaxPooling1D())\n",
    "model.add(layers.Dense(1))\n",
    "\n",
    "model.summary()\n",
    "\n",
    "model.compile(optimizer=RMSprop(lr=1e-4),\n",
    "              loss='binary_crossentropy',\n",
    "              metrics=['acc'])\n",
    "history = model.fit(x_train,y_train,\n",
    "                   epochs=10,\n",
    "                   batch_size=128,\n",
    "                   validation_split=0.2)"
   ]
  },
  {
   "cell_type": "code",
   "execution_count": 4,
   "metadata": {},
   "outputs": [
    {
     "data": {
      "image/png": "[encoded data removed]",
      "text/plain": [
       "<Figure size 432x288 with 1 Axes>"
      ]
     },
     "metadata": {
      "needs_background": "light"
     },
     "output_type": "display_data"
    },
    {
     "data": {
      "image/png": "[encoded data removed]",
      "text/plain": [
       "<Figure size 432x288 with 1 Axes>"
      ]
     },
     "metadata": {
      "needs_background": "light"
     },
     "output_type": "display_data"
    }
   ],
   "source": [
    "import matplotlib.pyplot as plt\n",
    "\n",
    "loss = history.history['loss']\n",
    "val_loss = history.history['val_loss']\n",
    "\n",
    "epochs = range(1,len(loss)+1)\n",
    "\n",
    "plt.figure()\n",
    "plt.plot(epochs,loss,'bo',label='Training loss')\n",
    "plt.plot(epochs,val_loss,'b',label='Validation loss')\n",
    "plt.title('Training and Validation loss')\n",
    "plt.legend()\n",
    "\n",
    "plt.show()\n",
    "acc = history.history['acc']\n",
    "val_acc = history.history['val_acc']\n",
    "\n",
    "epochs = range(1,len(acc)+1)\n",
    "\n",
    "plt.figure()\n",
    "plt.plot(epochs,acc,'bo',label='Training acc')\n",
    "plt.plot(epochs,val_acc,'b',label='Validation acc')\n",
    "plt.title('Training and Validation accuracy')\n",
    "plt.legend()\n",
    "\n",
    "plt.show()\n"
   ]
  },
  {
   "cell_type": "code",
   "execution_count": null,
   "metadata": {},
   "outputs": [],
   "source": []
  }
 ],
 "metadata": {
  "kernelspec": {
   "display_name": "Python 3",
   "language": "python",
   "name": "python3"
  },
  "language_info": {
   "codemirror_mode": {
    "name": "ipython",
    "version": 3
   },
   "file_extension": ".py",
   "mimetype": "text/x-python",
   "name": "python",
   "nbconvert_exporter": "python",
   "pygments_lexer": "ipython3",
   "version": "3.7.4"
  }
 },
 "nbformat": 4,
 "nbformat_minor": 2
}
