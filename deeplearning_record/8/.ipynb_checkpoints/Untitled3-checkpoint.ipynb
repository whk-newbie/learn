{
 "cells": [
  {
   "cell_type": "code",
   "execution_count": 8,
   "metadata": {},
   "outputs": [],
   "source": [
    "import keras\n",
    "from keras import layers\n",
    "from keras import backend as K\n",
    "from keras.models import   Model\n",
    "import numpy as np\n",
    "\n",
    "img_shape = (28,28,1)\n",
    "batch_size = 16\n",
    "latent_dim = 2  #潜在空降的维度：一个二维平面\n",
    "\n",
    "input_img = keras.Input(shape=img_shape)\n",
    "\n",
    "x = layers.Conv2D(32,3,padding='same',activation='relu')(input_img)\n",
    "x = layers.Conv2D(64,3,padding='same',activation='relu',strides=(2,2))(x)\n",
    "x = layers.Conv2D(64,3,padding='same',activation='relu')(x)\n",
    "x = layers.Conv2D(64,3,padding='same',activation='relu')(x)\n",
    "shape_before_flattening = K.int_shape(x)\n",
    "\n",
    "x = layers.Flatten()(x)\n",
    "x = layers.Dense(32,activation='relu')(x)\n",
    "\n",
    "z_mean = layers.Dense(latent_dim)(x)\n",
    "z_log_var = layers.Dense(latent_dim)(x) "
   ]
  },
  {
   "cell_type": "code",
   "execution_count": 9,
   "metadata": {},
   "outputs": [],
   "source": [
    "def sampling(args):\n",
    "    z_mean,z_log_var = args\n",
    "    epsilon = K.random_normal(shape=(K.shape(z_mean)[0],latent_dim),mean=0.,stddev=1.)\n",
    "    return z_mean + K.exp(z_log_var) * epsilon\n",
    "\n",
    "z = layers.Lambda(sampling)([z_mean,z_log_var])"
   ]
  },
  {
   "cell_type": "code",
   "execution_count": 17,
   "metadata": {},
   "outputs": [],
   "source": [
    "decoder_input = layers.Input(K.int_shape(z)[1:])\n",
    "\n",
    "x = layers.Dense(np.prod(shape_before_flattening[1:]),activation='relu')(decoder_input)  #对输入进行采样\n",
    "x = layers.Reshape(shape_before_flattening[1:])(x) #将z转化为特征图， 使其形状和编码器模型最后一个个Flatten层之前的特征图形形状相同\n",
    "x = layers.Conv2DTranspose(32,3,padding='same',activation='relu',strides=(2,2))(x)  \n",
    "x = layers.Conv2D(1,3,padding='same',activation='sigmoid')(x)  #将z解码为与原始输入图像具有相同的尺寸特征图\n",
    "\n",
    "decoder = Model(decoder_input,x)  #解码模型实例化，它将decoder_input转化为解码后的图像\n",
    "z_decoded = decoder(z)"
   ]
  },
  {
   "cell_type": "code",
   "execution_count": 19,
   "metadata": {},
   "outputs": [],
   "source": [
    "class CustomVariationalLayer(keras.layers.Layer):\n",
    "    \n",
    "    def vae_loss(self,x,z_decoded):\n",
    "        x = K.flatten(x)\n",
    "        z_decoded = K.flatten(z_decoded)\n",
    "        xent_loss = keras.metrics.binary_crossentropy(x,z_decoded)\n",
    "        kl_loss = -5e-4 * K.mean(\n",
    "            1 + z_log_var - K.square(z_mean) - K.exp(z_log_var),axis=-1)\n",
    "        return K.mean(xent_loss + kl_loss)\n",
    "    \n",
    "    def call(self,inputs):   #实现自定义层\n",
    "        x = inputs[0]\n",
    "        z_decoded = inputs[1]\n",
    "        loss = self.vae_loss(x,z_decoded)\n",
    "        self.add_loss(loss,inputs=inputs)\n",
    "        return x  #不使用x,但层必须一定要有返回值\n",
    "\n",
    "y = CustomVariationalLayer()([input_img,z_decoded])"
   ]
  },
  {
   "cell_type": "code",
   "execution_count": null,
   "metadata": {},
   "outputs": [],
   "source": [
    "#训练\n",
    "from keras.datasets import mnist\n",
    "vae = Model([input_img,y])\n",
    "vae.compile(optimizer='rmsprop',loss=None) #自定义层中已经定义了损失，顾不用使用loss\n",
    "vae.summary()\n",
    "\n",
    "(x_train, _),(x_test,y_test) = mnist.load_data()\n",
    "\n",
    "x_train = x_train.astype('float32')/255.\n",
    "x_train =  x_train,reshape(x_train.shape+(1.))\n",
    "x_test= x_test.astype('float32')/255.\n",
    "x_tesst = x_test.reshape(x_test.shape+(1.))\n",
    "\n",
    "vae.fit(x=x_trian,y=None,\n",
    "       shuffle=True,\n",
    "       epochs = 10,\n",
    "       batch_size=batch_size,\n",
    "       validation_data=(x_test,None))\n"
   ]
  },
  {
   "cell_type": "code",
   "execution_count": 21,
   "metadata": {},
   "outputs": [
    {
     "ename": "SyntaxError",
     "evalue": "unexpected EOF while parsing (<ipython-input-21-21aa1f9493c0>, line 11)",
     "output_type": "error",
     "traceback": [
      "\u001b[1;36m  File \u001b[1;32m\"<ipython-input-21-21aa1f9493c0>\"\u001b[1;36m, line \u001b[1;32m11\u001b[0m\n\u001b[1;33m    for j,xi in enumerate(grid_y):\u001b[0m\n\u001b[1;37m                                  ^\u001b[0m\n\u001b[1;31mSyntaxError\u001b[0m\u001b[1;31m:\u001b[0m unexpected EOF while parsing\n"
     ]
    }
   ],
   "source": [
    "import matplotlib.pyplot as plt\n",
    "from scipy.stats import norm\n",
    "\n",
    "n = 15  #15*15的数字网格，共255个数字\n",
    "digit_size = 28\n",
    "figure = np.size((digit_size * n,digit_size * n))\n",
    "grid_x = norm.ppf(np.linspace(0.05,0.95,n))\n",
    "grid_y = norm.ppf(np.linspace(0.05,0.95,n))  #ppf函数对线性分隔的坐标进行变换，以生成潜在变量z的值（因为潜在空间的先验分布为高斯分布）\n",
    "\n",
    "for i,yi in enumerate(gird_x):\n",
    "    for j,xi in enumerate(grid_y):\n",
    "        z_sample = np.array([xi,yi])\n",
    "        z_sampel = np.tile(z_sample,batch_size).reshape(batch_size,2)  #将z多次重复，构建完整的批量\n",
    "        x_decoded = decoder.predict(z_sample,batch_size=batch_size)  #将批量解码为数字图像\n",
    "        digit = x_decoded[0].reshape(digit_size,digit_size)   #将批量第一个数字的形状从28*28*1 变为 28*28\n",
    "        firgure[i * digit_size:(i+1) * digit_size,\n",
    "                j * digit_size:(j+1) * digit_size] = digit\n",
    "        \n",
    "plt.figure(figsize=(10,10))\n",
    "plt.imshow(figure,cmap='Greys_r')\n",
    "plt.show()"
   ]
  },
  {
   "cell_type": "code",
   "execution_count": null,
   "metadata": {},
   "outputs": [],
   "source": []
  }
 ],
 "metadata": {
  "kernelspec": {
   "display_name": "Python 3",
   "language": "python",
   "name": "python3"
  },
  "language_info": {
   "codemirror_mode": {
    "name": "ipython",
    "version": 3
   },
   "file_extension": ".py",
   "mimetype": "text/x-python",
   "name": "python",
   "nbconvert_exporter": "python",
   "pygments_lexer": "ipython3",
   "version": "3.7.4"
  }
 },
 "nbformat": 4,
 "nbformat_minor": 2
}
