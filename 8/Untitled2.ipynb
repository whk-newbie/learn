{
 "cells": [
  {
   "cell_type": "code",
   "execution_count": 3,
   "metadata": {},
   "outputs": [
    {
     "ename": "SyntaxError",
     "evalue": "invalid syntax (<ipython-input-3-612250e4135a>, line 5)",
     "output_type": "error",
     "traceback": [
      "\u001b[1;36m  File \u001b[1;32m\"<ipython-input-3-612250e4135a>\"\u001b[1;36m, line \u001b[1;32m5\u001b[0m\n\u001b[1;33m    from matplotlib.pyplot as plt\u001b[0m\n\u001b[1;37m                            ^\u001b[0m\n\u001b[1;31mSyntaxError\u001b[0m\u001b[1;31m:\u001b[0m invalid syntax\n"
     ]
    }
   ],
   "source": [
    "import torch\n",
    "from torchvision import models,transforms\n",
    "import torch.optim as optim\n",
    "import numpy as np\n",
    "import matplotlib.pyplot as plt\n",
    "from PIL import Image,ImageFilter,ImageChops"
   ]
  },
  {
   "cell_type": "code",
   "execution_count": 4,
   "metadata": {},
   "outputs": [],
   "source": [
    "CUDA_ENABLED = True\n",
    "\n",
    "LAYER_ID = 28\n",
    "nUM_ITERATIONS = 5\n",
    "LR = 1e-7\n",
    "\n",
    "NUM_DOWNSCAES = 20\n",
    "BLEDN_ALPHA = 0.5"
   ]
  },
  {
   "cell_type": "code",
   "execution_count": null,
   "metadata": {},
   "outputs": [],
   "source": [
    "class DeepDream:\n",
    "    def __init_(self,image):\n",
    "        self.image = image\n",
    "        self.model = models.InceptionV3(weights='imagenet',include_top=False)\n",
    "    if CUDA_ENDABLED:\n",
    "        self.model = self.model.cuda()\n",
    "    self.modules = list(self.model.features.modules)\n",
    "    \n",
    "    imgeSize=224\n",
    "    self.transformMean"
   ]
  }
 ],
 "metadata": {
  "kernelspec": {
   "display_name": "Python 3",
   "language": "python",
   "name": "python3"
  },
  "language_info": {
   "codemirror_mode": {
    "name": "ipython",
    "version": 3
   },
   "file_extension": ".py",
   "mimetype": "text/x-python",
   "name": "python",
   "nbconvert_exporter": "python",
   "pygments_lexer": "ipython3",
   "version": "3.7.4"
  }
 },
 "nbformat": 4,
 "nbformat_minor": 2
}
