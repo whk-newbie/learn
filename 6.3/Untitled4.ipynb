{
 "cells": [
  {
   "cell_type": "code",
   "execution_count": 2,
   "metadata": {},
   "outputs": [
    {
     "name": "stdout",
     "output_type": "stream",
     "text": [
      "Epoch 1/10\n",
      "157/157 [==============================] - 17s 108ms/step - loss: 0.5009 - acc: 0.7649 - val_loss: 0.4612 - val_acc: 0.7922\n",
      "Epoch 2/10\n",
      "157/157 [==============================] - 16s 103ms/step - loss: 0.3793 - acc: 0.8570 - val_loss: 0.4268 - val_acc: 0.8214\n",
      "Epoch 3/10\n",
      "157/157 [==============================] - 16s 103ms/step - loss: 0.2641 - acc: 0.9057 - val_loss: 0.3906 - val_acc: 0.8682\n",
      "Epoch 4/10\n",
      "157/157 [==============================] - 16s 102ms/step - loss: 0.2245 - acc: 0.9189 - val_loss: 0.5708 - val_acc: 0.8060\n",
      "Epoch 5/10\n",
      "157/157 [==============================] - 16s 102ms/step - loss: 0.1888 - acc: 0.9343 - val_loss: 0.3269 - val_acc: 0.8704\n",
      "Epoch 6/10\n",
      "157/157 [==============================] - 16s 103ms/step - loss: 0.1727 - acc: 0.9409 - val_loss: 0.3585 - val_acc: 0.8672s: 0.1725 - \n",
      "Epoch 7/10\n",
      "157/157 [==============================] - 16s 102ms/step - loss: 0.1558 - acc: 0.9452 - val_loss: 0.3471 - val_acc: 0.8582\n",
      "Epoch 8/10\n",
      "157/157 [==============================] - 16s 101ms/step - loss: 0.1401 - acc: 0.9524 - val_loss: 0.3995 - val_acc: 0.8754\n",
      "Epoch 9/10\n",
      "157/157 [==============================] - 16s 102ms/step - loss: 0.1274 - acc: 0.9560 - val_loss: 0.3890 - val_acc: 0.8732\n",
      "Epoch 10/10\n",
      "157/157 [==============================] - 16s 102ms/step - loss: 0.1238 - acc: 0.9604 - val_loss: 0.3885 - val_acc: 0.8730\n"
     ]
    }
   ],
   "source": [
    "from keras.datasets import imdb\n",
    "from keras.preprocessing import sequence\n",
    "from keras import layers\n",
    "from keras.models import Sequential\n",
    "\n",
    "max_features = 10000\n",
    "maxlen = 500\n",
    "\n",
    "(x_train,y_trian),(x_test,y_test) = imdb.load_data(num_words=max_features)\n",
    "\n",
    "x_train = [x[::-1] for x in x_train]\n",
    "x_test = [x[::-1] for x in x_test]\n",
    "\n",
    "x_train = sequence.pad_sequences(x_train,maxlen=maxlen)\n",
    "x_test = sequence.pad_sequences(x_test,maxlen=maxlen)\n",
    "\n",
    "model = Sequential()\n",
    "model.add(layers.Embedding(max_features,128))\n",
    "model.add(layers.LSTM(32))\n",
    "model.add(layers.Dense(1,activation='sigmoid'))\n",
    "\n",
    "model.compile(optimizer='rmsprop',\n",
    "             loss='binary_crossentropy',\n",
    "             metrics=['acc'])\n",
    "history = model.fit(x_train,y_trian,\n",
    "                   epochs=10,\n",
    "                   batch_size=128,\n",
    "                   validation_split=0.2)"
   ]
  },
  {
   "cell_type": "code",
   "execution_count": 4,
   "metadata": {},
   "outputs": [
    {
     "name": "stdout",
     "output_type": "stream",
     "text": [
      "Epoch 1/10\n",
      "157/157 [==============================] - 22s 142ms/step - loss: 0.4922 - acc: 0.7728 - val_loss: 0.4178 - val_acc: 0.8430\n",
      "Epoch 2/10\n",
      "157/157 [==============================] - 22s 138ms/step - loss: 0.3142 - acc: 0.8783 - val_loss: 0.7283 - val_acc: 0.7616\n",
      "Epoch 3/10\n",
      "157/157 [==============================] - 22s 139ms/step - loss: 0.2529 - acc: 0.9060 - val_loss: 0.4367 - val_acc: 0.8056\n",
      "Epoch 4/10\n",
      "157/157 [==============================] - 22s 137ms/step - loss: 0.2157 - acc: 0.9214 - val_loss: 0.3778 - val_acc: 0.8792\n",
      "Epoch 5/10\n",
      "157/157 [==============================] - 22s 138ms/step - loss: 0.1951 - acc: 0.9317 - val_loss: 0.3472 - val_acc: 0.8838\n",
      "Epoch 6/10\n",
      "157/157 [==============================] - 22s 137ms/step - loss: 0.1729 - acc: 0.9376 - val_loss: 0.3792 - val_acc: 0.8678\n",
      "Epoch 7/10\n",
      "157/157 [==============================] - 22s 139ms/step - loss: 0.1585 - acc: 0.9471 - val_loss: 0.3569 - val_acc: 0.8708\n",
      "Epoch 8/10\n",
      "157/157 [==============================] - 22s 138ms/step - loss: 0.1431 - acc: 0.9514 - val_loss: 0.3723 - val_acc: 0.8686\n",
      "Epoch 9/10\n",
      "157/157 [==============================] - 22s 138ms/step - loss: 0.1215 - acc: 0.9606 - val_loss: 0.4243 - val_acc: 0.8694\n",
      "Epoch 10/10\n",
      "157/157 [==============================] - 22s 138ms/step - loss: 0.1135 - acc: 0.9633 - val_loss: 0.5426 - val_acc: 0.8344\n"
     ]
    }
   ],
   "source": [
    "model = Sequential()\n",
    "model.add(layers.Embedding(max_features,128))\n",
    "model.add(layers.Bidirectional(layers.LSTM(32)))\n",
    "model.add(layers.Dense(1,activation='sigmoid'))\n",
    "\n",
    "model.compile(optimizer='rmsprop',\n",
    "             loss='binary_crossentropy',\n",
    "             metrics=['acc'])\n",
    "history = model.fit(x_train,y_trian,\n",
    "                   epochs=10,\n",
    "                   batch_size=128,\n",
    "                   validation_split=0.2)"
   ]
  },
  {
   "cell_type": "code",
   "execution_count": null,
   "metadata": {},
   "outputs": [],
   "source": []
  }
 ],
 "metadata": {
  "kernelspec": {
   "display_name": "Python 3",
   "language": "python",
   "name": "python3"
  },
  "language_info": {
   "codemirror_mode": {
    "name": "ipython",
    "version": 3
   },
   "file_extension": ".py",
   "mimetype": "text/x-python",
   "name": "python",
   "nbconvert_exporter": "python",
   "pygments_lexer": "ipython3",
   "version": "3.7.4"
  }
 },
 "nbformat": 4,
 "nbformat_minor": 2
}
