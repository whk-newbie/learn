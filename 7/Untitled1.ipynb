{
 "cells": [
  {
   "cell_type": "code",
   "execution_count": 1,
   "metadata": {},
   "outputs": [],
   "source": [
    "import keras \n",
    "from keras import layers\n",
    "from keras.datasets import imdb\n",
    "from keras.preprocessing import sequence\n",
    "max_features = 2000\n",
    "max_len = 500\n",
    "(x_train,y_train),(x_test,y_text) = imdb.load_data(num_words=max_features)\n",
    "x_train = sequence.pad_sequences(x_train,maxlen=max_len)\n",
    "x_test = sequence.pad_sequences(x_test,maxlen=max_len)\n",
    "\n",
    "model = keras.models.Sequential()\n",
    "model.add(layers.Embedding(max_features,128,input_length=max_len,name='embed'))\n",
    "model.add(layers.Conv1D(32,7,activation='relu'))\n",
    "model.add(layers.MaxPooling1D(5))\n",
    "model.add(layers.Conv1D(32,7,activation='relu'))\n",
    "model.add(layers.GlobalMaxPooling1D())\n",
    "model.add(layers.Dense(1))\n",
    "model.compile(optimizer='rmsprop',\n",
    "             loss='binary_crossentropy',\n",
    "             metrics=['acc'])"
   ]
  },
  {
   "cell_type": "code",
   "execution_count": null,
   "metadata": {},
   "outputs": [],
   "source": []
  },
  {
   "cell_type": "code",
   "execution_count": 2,
   "metadata": {},
   "outputs": [
    {
     "name": "stdout",
     "output_type": "stream",
     "text": [
      "Epoch 1/20\n",
      "157/157 [==============================] - 12s 76ms/step - loss: 0.5770 - acc: 0.6956 - val_loss: 0.4210 - val_acc: 0.8436\n",
      "Epoch 2/20\n",
      "157/157 [==============================] - 11s 67ms/step - loss: 0.4246 - acc: 0.8596 - val_loss: 0.4252 - val_acc: 0.8646\n",
      "Epoch 3/20\n",
      "157/157 [==============================] - 10s 67ms/step - loss: 0.3784 - acc: 0.8892 - val_loss: 0.5524 - val_acc: 0.8476\n",
      "Epoch 4/20\n",
      "157/157 [==============================] - 10s 67ms/step - loss: 0.3370 - acc: 0.9035 - val_loss: 0.5717 - val_acc: 0.8666\n",
      "Epoch 5/20\n",
      "157/157 [==============================] - 10s 66ms/step - loss: 0.2865 - acc: 0.9273 - val_loss: 0.5655 - val_acc: 0.8686\n",
      "Epoch 6/20\n",
      "157/157 [==============================] - 11s 67ms/step - loss: 0.2420 - acc: 0.9438 - val_loss: 0.6149 - val_acc: 0.8728\n",
      "Epoch 7/20\n",
      "157/157 [==============================] - 10s 66ms/step - loss: 0.2043 - acc: 0.9603 - val_loss: 0.7257 - val_acc: 0.8708\n",
      "Epoch 8/20\n",
      "157/157 [==============================] - 11s 67ms/step - loss: 0.1660 - acc: 0.9732 - val_loss: 0.8450 - val_acc: 0.8666\n",
      "Epoch 9/20\n",
      "157/157 [==============================] - 11s 67ms/step - loss: 0.1434 - acc: 0.9821 - val_loss: 0.9494 - val_acc: 0.8626\n",
      "Epoch 10/20\n",
      "157/157 [==============================] - 10s 66ms/step - loss: 0.1304 - acc: 0.9862 - val_loss: 0.9425 - val_acc: 0.8720\n",
      "Epoch 11/20\n",
      "157/157 [==============================] - 11s 67ms/step - loss: 0.1247 - acc: 0.9872 - val_loss: 0.9844 - val_acc: 0.8702\n",
      "Epoch 12/20\n",
      "157/157 [==============================] - 10s 67ms/step - loss: 0.1115 - acc: 0.9901 - val_loss: 1.0859 - val_acc: 0.8640\n",
      "Epoch 13/20\n",
      "157/157 [==============================] - 10s 65ms/step - loss: 0.1107 - acc: 0.9902 - val_loss: 1.4828 - val_acc: 0.8390\n",
      "Epoch 14/20\n",
      "157/157 [==============================] - 10s 64ms/step - loss: 0.1113 - acc: 0.9902 - val_loss: 1.0691 - val_acc: 0.8712\n",
      "Epoch 15/20\n",
      "157/157 [==============================] - 10s 64ms/step - loss: 0.1105 - acc: 0.9904 - val_loss: 1.1091 - val_acc: 0.87000.10 - ETA: 1s - loss:\n",
      "Epoch 16/20\n",
      "157/157 [==============================] - 10s 64ms/step - loss: 0.1100 - acc: 0.9905 - val_loss: 1.1540 - val_acc: 0.8700\n",
      "Epoch 17/20\n",
      "157/157 [==============================] - 10s 66ms/step - loss: 0.1071 - acc: 0.9919 - val_loss: 1.1123 - val_acc: 0.8704\n",
      "Epoch 18/20\n",
      "157/157 [==============================] - 10s 65ms/step - loss: 0.1057 - acc: 0.9914 - val_loss: 1.1810 - val_acc: 0.8716\n",
      "Epoch 19/20\n",
      "157/157 [==============================] - 10s 64ms/step - loss: 0.1052 - acc: 0.9915 - val_loss: 1.1925 - val_acc: 0.8674\n",
      "Epoch 20/20\n",
      "157/157 [==============================] - 10s 64ms/step - loss: 0.1031 - acc: 0.9923 - val_loss: 1.4428 - val_acc: 0.8536\n"
     ]
    }
   ],
   "source": [
    "callbacks = [\n",
    "    keras.callbacks.TensorBoard(\n",
    "    log_dir='my_log_dir',\n",
    "    histogram_freq=1,\n",
    "    embeddings_freq=1\n",
    "    )\n",
    "]\n",
    "history = model.fit(x_train,y_train,\n",
    "                   epochs=20,\n",
    "                   batch_size=128,\n",
    "                   validation_split=0.2,\n",
    "                   callbacks=callbacks)"
   ]
  },
  {
   "cell_type": "code",
   "execution_count": 19,
   "metadata": {},
   "outputs": [
    {
     "ename": "SyntaxError",
     "evalue": "can't assign to operator (<ipython-input-19-2851327bad81>, line 1)",
     "output_type": "error",
     "traceback": [
      "\u001b[1;36m  File \u001b[1;32m\"<ipython-input-19-2851327bad81>\"\u001b[1;36m, line \u001b[1;32m1\u001b[0m\n\u001b[1;33m    tensorboard --logdir=my_log_dir\u001b[0m\n\u001b[1;37m                                   ^\u001b[0m\n\u001b[1;31mSyntaxError\u001b[0m\u001b[1;31m:\u001b[0m can't assign to operator\n"
     ]
    }
   ],
   "source": [
    "$ tensorboard --logdir=my_log_dir"
   ]
  },
  {
   "cell_type": "code",
   "execution_count": 6,
   "metadata": {},
   "outputs": [
    {
     "name": "stdout",
     "output_type": "stream",
     "text": [
      "Failed to import pydot. You must install pydot and graphviz for `pydotprint` to work.\n",
      "Failed to import pydot. You must install pydot and graphviz for `pydotprint` to work.\n"
     ]
    }
   ],
   "source": [
    "from keras.utils import plot_model\n",
    "plot_model(model,to_file='model.png')\n",
    "plot_model(model,show_shapes=True,to_file='model.png')"
   ]
  },
  {
   "cell_type": "code",
   "execution_count": null,
   "metadata": {},
   "outputs": [],
   "source": []
  }
 ],
 "metadata": {
  "kernelspec": {
   "display_name": "Python 3",
   "language": "python",
   "name": "python3"
  },
  "language_info": {
   "codemirror_mode": {
    "name": "ipython",
    "version": 3
   },
   "file_extension": ".py",
   "mimetype": "text/x-python",
   "name": "python",
   "nbconvert_exporter": "python",
   "pygments_lexer": "ipython3",
   "version": "3.7.4"
  }
 },
 "nbformat": 4,
 "nbformat_minor": 2
}
