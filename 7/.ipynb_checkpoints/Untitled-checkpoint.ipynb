{
 "cells": [
  {
   "cell_type": "code",
   "execution_count": 37,
   "metadata": {},
   "outputs": [],
   "source": [
    "#多输入模型999999999999999999999999999999999999999999999999999999999999999999999999999999999999999999999999999999999999999999999999999999\n",
    "from keras.models import Model\n",
    "from keras import layers,Input\n",
    "\n",
    "text_vocabulary_size = 10000\n",
    "question_vocabulary_size = 10000\n",
    "answer_vocabulary_size = 500\n",
    "\n",
    "text_input = Input(shape=(None,),dtype='int32',name='text')\n",
    "\n",
    "embedded_text = layers.Embedding(text_vocabulary_size,64)(text_input)\n",
    "\n",
    "encoded_text = layers.LSTM(32)(embedded_text)\n",
    "\n",
    "question_input = Input(shape=(None,),dtype='int32',name='question')\n",
    "\n",
    "embedded_question = layers.Embedding(question_vocabulary_size,32)(question_input)\n",
    "encoded_question = layers.LSTM(16)(embedded_text)\n",
    "\n",
    "concatenated = layers.concatenate([encoded_text,encoded_question],axis=-1)\n",
    "\n",
    "answer = layers.Dense(answer_vocabulary_size,activation='softmax')(concatenated)\n",
    "\n",
    "model = Model([text_input,question_input],answer)\n",
    "\n",
    "model.compile(optimizer='rmsprop',\n",
    "             loss='categorical_crossentropy',\n",
    "             metrics=['acc'])"
   ]
  },
  {
   "cell_type": "code",
   "execution_count": 38,
   "metadata": {},
   "outputs": [
    {
     "name": "stdout",
     "output_type": "stream",
     "text": [
      "Epoch 1/10\n",
      "8/8 [==============================] - 0s 30ms/step - loss: 6.2145 - acc: 0.0030\n",
      "Epoch 2/10\n",
      "8/8 [==============================] - 0s 30ms/step - loss: 6.1945 - acc: 0.0140\n",
      "Epoch 3/10\n",
      "8/8 [==============================] - 0s 28ms/step - loss: 6.1277 - acc: 0.0100\n",
      "Epoch 4/10\n",
      "8/8 [==============================] - 0s 29ms/step - loss: 6.0614 - acc: 0.0100\n",
      "Epoch 5/10\n",
      "8/8 [==============================] - 0s 28ms/step - loss: 6.0086 - acc: 0.0100\n",
      "Epoch 6/10\n",
      "8/8 [==============================] - 0s 28ms/step - loss: 5.9502 - acc: 0.0100\n",
      "Epoch 7/10\n",
      "8/8 [==============================] - 0s 27ms/step - loss: 5.8783 - acc: 0.0100\n",
      "Epoch 8/10\n",
      "8/8 [==============================] - 0s 29ms/step - loss: 5.8158 - acc: 0.0140\n",
      "Epoch 9/10\n",
      "8/8 [==============================] - 0s 28ms/step - loss: 5.7317 - acc: 0.0170\n",
      "Epoch 10/10\n",
      "8/8 [==============================] - 0s 29ms/step - loss: 5.6481 - acc: 0.0290\n",
      "Epoch 1/10\n",
      "8/8 [==============================] - 0s 29ms/step - loss: 5.5758 - acc: 0.0280\n",
      "Epoch 2/10\n",
      "8/8 [==============================] - 0s 28ms/step - loss: 5.5192 - acc: 0.0330\n",
      "Epoch 3/10\n",
      "8/8 [==============================] - 0s 28ms/step - loss: 5.4376 - acc: 0.0320\n",
      "Epoch 4/10\n",
      "8/8 [==============================] - 0s 28ms/step - loss: 5.3727 - acc: 0.0390\n",
      "Epoch 5/10\n",
      "8/8 [==============================] - 0s 28ms/step - loss: 5.3206 - acc: 0.0320\n",
      "Epoch 6/10\n",
      "8/8 [==============================] - 0s 28ms/step - loss: 5.2527 - acc: 0.0390\n",
      "Epoch 7/10\n",
      "8/8 [==============================] - 0s 29ms/step - loss: 5.1907 - acc: 0.0460\n",
      "Epoch 8/10\n",
      "8/8 [==============================] - 0s 29ms/step - loss: 5.1496 - acc: 0.0470\n",
      "Epoch 9/10\n",
      "8/8 [==============================] - 0s 31ms/step - loss: 5.0759 - acc: 0.0540\n",
      "Epoch 10/10\n",
      "8/8 [==============================] - 0s 28ms/step - loss: 5.0259 - acc: 0.0560\n"
     ]
    },
    {
     "data": {
      "text/plain": [
       "<tensorflow.python.keras.callbacks.History at 0x19453c6d6c8>"
      ]
     },
     "execution_count": 38,
     "metadata": {},
     "output_type": "execute_result"
    }
   ],
   "source": [
    "import numpy as np\n",
    "import keras\n",
    "\n",
    "num_samples =1000\n",
    "max_length = 100\n",
    "\n",
    "text = np.random.randint(1,text_vocabulary_size,size=(num_samples,max_length))\n",
    "\n",
    "question = np.random.randint(1,question_vocabulary_size,size=(num_samples,max_length))\n",
    "\n",
    "answers = np.random.randint(answer_vocabulary_size,size=(num_samples))\n",
    "answers = keras.utils.to_categorical(answers,answer_vocabulary_size)\n",
    "\n",
    "model.fit([text,question],answers,epochs=10,batch_size=128)\n",
    "\n",
    "model.fit({'text':text,'question':question},answers,epochs=10,batch_size=128)\n",
    "\n"
   ]
  },
  {
   "cell_type": "code",
   "execution_count": 39,
   "metadata": {},
   "outputs": [],
   "source": [
    "#多输出模型\n",
    "\n",
    "from keras import layers,Input\n",
    "from keras.models import Model\n",
    "\n",
    "vocabulary_size =50000\n",
    "num_income_groups = 10\n",
    "\n",
    "posts_input = Input(shape=(None,),dtype='int32',name='posts')\n",
    "embedded_posts = layers.Embedding(256,vocabulary_size)(posts_input)\n",
    "x = layers.Conv1D(128,5,activation='relu')(embedded_posts)\n",
    "x = layers.MaxPooling1D(5)(x)\n",
    "\n",
    "x = layers.Conv1D(256,5,activation='relu')(x)\n",
    "x = layers.Conv1D(256,5,activation='relu')(x)\n",
    "x = layers.MaxPooling1D(5)(x)\n",
    "x = layers.Conv1D(256,5,activation='relu')(x)\n",
    "x = layers.Conv1D(256,5,activation='relu')(x)\n",
    "x = layers.GlobalMaxPooling1D()(x)\n",
    "x = layers.Dense(128,activation='relu')(x)\n",
    "\n",
    "age_prediction = layers.Dense(1,name='age')(x)\n",
    "income_prediction = layers.Dense(num_income_groups,activation='softmax',name='income')(x)\n",
    "gender_prediction = layers.Dense(1,activation='sigmoid',name='gender')(x)\n",
    "\n",
    "model = Model(posts_input,[age_prediction,income_prediction,gender_prediction])"
   ]
  },
  {
   "cell_type": "code",
   "execution_count": 40,
   "metadata": {},
   "outputs": [],
   "source": [
    "#多重损失9\n",
    "model.compile(optimizer='rmsprop',\n",
    "              loss=['mse','categorical_crossentropy','binary_crossentropy'])\n",
    "model.compile(optimizer='rmsprop',\n",
    "              loss={'age': 'mse',\n",
    "                    'income': 'categorical_crossentropy',\n",
    "                     'gender': 'binary_crossentropy'})"
   ]
  },
  {
   "cell_type": "code",
   "execution_count": 42,
   "metadata": {},
   "outputs": [],
   "source": [
    "\n",
    "#损失加权\n",
    "model.compile(optimizer='rmsprop',\n",
    "             loss=['mse','categorical_crossentropy','binary_crossentropy'],\n",
    "             loss_weights=[0.25,1.,10.])\n",
    "model.compile(optimizer='rmsprop',\n",
    "             loss={'age':0.25,\n",
    "                 'incom':1.,\n",
    "                 'gender':10.})"
   ]
  },
  {
   "cell_type": "code",
   "execution_count": 44,
   "metadata": {},
   "outputs": [
    {
     "ename": "NameError",
     "evalue": "name 'posts' is not defined",
     "output_type": "error",
     "traceback": [
      "\u001b[1;31m---------------------------------------------------------------------------\u001b[0m",
      "\u001b[1;31mNameError\u001b[0m                                 Traceback (most recent call last)",
      "\u001b[1;32m<ipython-input-44-530114e53347>\u001b[0m in \u001b[0;36m<module>\u001b[1;34m\u001b[0m\n\u001b[1;32m----> 1\u001b[1;33m \u001b[0mmodel\u001b[0m\u001b[1;33m.\u001b[0m\u001b[0mfit\u001b[0m\u001b[1;33m(\u001b[0m\u001b[0mposts\u001b[0m\u001b[1;33m,\u001b[0m\u001b[1;33m[\u001b[0m\u001b[0mage_targets\u001b[0m\u001b[1;33m,\u001b[0m\u001b[0mincome_targets\u001b[0m\u001b[1;33m,\u001b[0m\u001b[0mgender_targets\u001b[0m\u001b[1;33m]\u001b[0m\u001b[1;33m,\u001b[0m\u001b[0mepochs\u001b[0m\u001b[1;33m=\u001b[0m\u001b[1;36m10\u001b[0m\u001b[1;33m,\u001b[0m\u001b[0mbatch_size\u001b[0m\u001b[1;33m=\u001b[0m\u001b[1;36m64\u001b[0m\u001b[1;33m)\u001b[0m\u001b[1;33m\u001b[0m\u001b[1;33m\u001b[0m\u001b[0m\n\u001b[0m\u001b[0;32m      2\u001b[0m \u001b[1;33m\u001b[0m\u001b[0m\n\u001b[0;32m      3\u001b[0m model.fit(posts,{'age':age_targets,\n\u001b[0;32m      4\u001b[0m                 \u001b[1;34m'income'\u001b[0m\u001b[1;33m:\u001b[0m\u001b[0mincome_targets\u001b[0m\u001b[1;33m,\u001b[0m\u001b[1;33m\u001b[0m\u001b[1;33m\u001b[0m\u001b[0m\n\u001b[0;32m      5\u001b[0m                  'gender':gerder_targets},\n",
      "\u001b[1;31mNameError\u001b[0m: name 'posts' is not defined"
     ]
    }
   ],
   "source": [
    "model.fit(posts,[age_targets,income_targets,gender_targets],epochs=10,batch_size=64)\n",
    "\n",
    "model.fit(posts,{'age':age_targets,\n",
    "                'income':income_targets,\n",
    "                 'gender':gerder_targets},\n",
    "                 epochs=10,\n",
    "                 batch_size=64)"
   ]
  },
  {
   "cell_type": "code",
   "execution_count": null,
   "metadata": {},
   "outputs": [],
   "source": [
    "\n"
   ]
  }
 ],
 "metadata": {
  "kernelspec": {
   "display_name": "Python 3",
   "language": "python",
   "name": "python3"
  },
  "language_info": {
   "codemirror_mode": {
    "name": "ipython",
    "version": 3
   },
   "file_extension": ".py",
   "mimetype": "text/x-python",
   "name": "python",
   "nbconvert_exporter": "python",
   "pygments_lexer": "ipython3",
   "version": "3.7.4"
  }
 },
 "nbformat": 4,
 "nbformat_minor": 2
}
