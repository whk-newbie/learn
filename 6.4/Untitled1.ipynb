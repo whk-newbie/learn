{
 "cells": [
  {
   "cell_type": "code",
   "execution_count": 1,
   "metadata": {},
   "outputs": [
    {
     "name": "stdout",
     "output_type": "stream",
     "text": [
      "['\"Date Time\"', '\"p (mbar)\"', '\"T (degC)\"', '\"Tpot (K)\"', '\"Tdew (degC)\"', '\"rh (%)\"', '\"VPmax (mbar)\"', '\"VPact (mbar)\"', '\"VPdef (mbar)\"', '\"sh (g/kg)\"', '\"H2OC (mmol/mol)\"', '\"rho (g/m**3)\"', '\"wv (m/s)\"', '\"max. wv (m/s)\"', '\"wd (deg)\"']\n",
      "420551\n"
     ]
    }
   ],
   "source": [
    "import os\n",
    "\n",
    "data_dir = 'E:/Study/study/python/NLP/deeplearning_record/Downloads/jena_climate'\n",
    "fname = os.path.join(data_dir,'jena_climate_2009_2016.csv')\n",
    "\n",
    "f = open(fname)\n",
    "data = f.read()\n",
    "f.close()\n",
    "\n",
    "lines = data.split('\\n')\n",
    "header = lines[0].split(',')\n",
    "lines = lines[1:]\n",
    "\n",
    "print(header)\n",
    "print(len(lines))\n",
    "#观察数据"
   ]
  },
  {
   "cell_type": "code",
   "execution_count": 2,
   "metadata": {},
   "outputs": [],
   "source": [
    "import numpy as np\n",
    "float_data = np.zeros((len(lines),len(header)-1))\n",
    "\n",
    "for i, line in enumerate(lines):\n",
    "#enumerate() 函数用于将一个可遍历的数据对象(如列表、元组或字符串)组合为一个索引序列，同时列出数据和数据下标，一般用在 for 循环当中\n",
    "    values = [float(x) for x in line.split(',')[1:]]\n",
    "    float_data[i, :] = values\n",
    "    \n",
    "    "
   ]
  },
  {
   "cell_type": "code",
   "execution_count": 3,
   "metadata": {},
   "outputs": [],
   "source": [
    "mean = float_data[:200000].mean(axis=0)\n",
    "float_data -= mean\n",
    "std = float_data[:200000].std(axis=0)\n",
    "float_data /= std"
   ]
  },
  {
   "cell_type": "code",
   "execution_count": 4,
   "metadata": {},
   "outputs": [],
   "source": [
    "def generator(data, lookback, delay, min_index, max_index, shuffle=False, batch_size=128, step=6):\n",
    "    if(max_index is None):\n",
    "        max_index = len(data) - delay - 1\n",
    "    i = min_index + lookback\n",
    "    while(1):\n",
    "        if shuffle:\n",
    "            rows = np.random.randint(min_index+lookback,max_index,size=batch_size)\n",
    "        else:\n",
    "            if i+ batch_size >= max_index:\n",
    "                i = min_index+ lookback\n",
    "            rows = np.arange(i,min(i+batch_size,max_index))\n",
    "            i += len(rows)\n",
    "            \n",
    "        samples = np.zeros((len(rows),\n",
    "                            lookback//step,\n",
    "                           data.shape[-1]))\n",
    "        #zers((a,b,c));a,b,c表示由外到内的元素个数\n",
    "        targets = np.zeros((len(rows),))\n",
    "        for j,row in enumerate(rows):\n",
    "            indices = range(rows[j] - lookback, rows[j], step)\n",
    "            samples[j] = data[indices]\n",
    "            targets[j] = data[rows[j]+delay][1]\n",
    "        yield samples, targets"
   ]
  },
  {
   "cell_type": "code",
   "execution_count": 5,
   "metadata": {},
   "outputs": [],
   "source": [
    "lookback = 1440\n",
    "step = 6\n",
    "delay = 144\n",
    "batch_size = 128\n",
    "\n",
    "train_gen = generator(float_data,delay=delay,lookback=lookback,min_index=0,max_index=200000,step=step,batch_size=batch_size)\n",
    "val_gen = generator(float_data,delay=delay,lookback=lookback,min_index=200001,max_index=300000,step=step,batch_size=batch_size)\n",
    "test_gen = generator(float_data,delay=delay,lookback=lookback,min_index=300001,max_index=None,step=step,batch_size=batch_size)\n",
    "\n",
    "val_steps = (300000-200001-lookback) // batch_size\n",
    "test_steps = (len(float_data)-300001-lookback) // batch_size"
   ]
  },
  {
   "cell_type": "code",
   "execution_count": 6,
   "metadata": {},
   "outputs": [
    {
     "name": "stdout",
     "output_type": "stream",
     "text": [
      "Epoch 1/20\n",
      "500/500 [==============================] - 18s 36ms/step - loss: 0.3654 - val_loss: 0.8414\n",
      "Epoch 2/20\n",
      "500/500 [==============================] - 18s 36ms/step - loss: 0.3867 - val_loss: 0.9860\n",
      "Epoch 3/20\n",
      "500/500 [==============================] - 20s 40ms/step - loss: 0.3789 - val_loss: 1.0794\n",
      "Epoch 4/20\n",
      "500/500 [==============================] - 18s 35ms/step - loss: 0.3747 - val_loss: 1.1785\n",
      "Epoch 5/20\n",
      "500/500 [==============================] - 20s 39ms/step - loss: 0.3832 - val_loss: 1.2351\n",
      "Epoch 6/20\n",
      "500/500 [==============================] - 18s 37ms/step - loss: 0.3750 - val_loss: 0.9121\n",
      "Epoch 7/20\n",
      "500/500 [==============================] - 17s 35ms/step - loss: 0.3757 - val_loss: 0.8330\n",
      "Epoch 8/20\n",
      "500/500 [==============================] - 18s 35ms/step - loss: 0.3632 - val_loss: 1.4399\n",
      "Epoch 9/20\n",
      "500/500 [==============================] - 18s 36ms/step - loss: 0.3914 - val_loss: 0.9466\n",
      "Epoch 10/20\n",
      "500/500 [==============================] - 18s 36ms/step - loss: 0.3747 - val_loss: 0.7561\n",
      "Epoch 11/20\n",
      "500/500 [==============================] - 18s 35ms/step - loss: 0.3723 - val_loss: 1.5230\n",
      "Epoch 12/20\n",
      "500/500 [==============================] - 17s 35ms/step - loss: 0.3783 - val_loss: 1.0762\n",
      "Epoch 13/20\n",
      "500/500 [==============================] - 18s 35ms/step - loss: 0.3837 - val_loss: 0.6661\n",
      "Epoch 14/20\n",
      "500/500 [==============================] - 18s 35ms/step - loss: 0.3502 - val_loss: 1.3837\n",
      "Epoch 15/20\n",
      "500/500 [==============================] - 18s 36ms/step - loss: 0.3731 - val_loss: 0.9815\n",
      "Epoch 16/20\n",
      "500/500 [==============================] - 17s 35ms/step - loss: 0.3837 - val_loss: 0.8215\n",
      "Epoch 17/20\n",
      "500/500 [==============================] - 18s 36ms/step - loss: 0.3540 - val_loss: 0.8392\n",
      "Epoch 18/20\n",
      "500/500 [==============================] - 18s 35ms/step - loss: 0.3622 - val_loss: 1.0471\n",
      "Epoch 19/20\n",
      "500/500 [==============================] - 18s 35ms/step - loss: 0.3765 - val_loss: 0.8374\n",
      "Epoch 20/20\n",
      "500/500 [==============================] - 18s 36ms/step - loss: 0.3517 - val_loss: 0.8782\n"
     ]
    }
   ],
   "source": [
    "from keras.models import Sequential\n",
    "from keras import layers\n",
    "from keras.optimizers import RMSprop\n",
    "\n",
    "model = Sequential()\n",
    "model.add(layers.Conv1D(32,5, activation='relu',\n",
    "                        input_shape=(None,float_data.shape[-1])))\n",
    "model.add(layers.MaxPooling1D(3))\n",
    "model.add(layers.Conv1D(32,5, activation='relu'))\n",
    "model.add(layers.MaxPooling1D(3))\n",
    "model.add(layers.Conv1D(32,5, activation='relu'))\n",
    "model.add(layers.GlobalMaxPooling1D())\n",
    "model.add(layers.Dense(1))\n",
    "\n",
    "model.compile(optimizer=RMSprop(),\n",
    "              loss='mae')\n",
    "history = model.fit(train_gen,\n",
    "                    steps_per_epoch=500,\n",
    "                   epochs=20,\n",
    "                   validation_data=val_gen,\n",
    "                   validation_steps=val_steps)"
   ]
  },
  {
   "cell_type": "code",
   "execution_count": 9,
   "metadata": {},
   "outputs": [
    {
     "data": {
      "image/png": "[encoded data removed]",
      "text/plain": [
       "<Figure size 432x288 with 1 Axes>"
      ]
     },
     "metadata": {
      "needs_background": "light"
     },
     "output_type": "display_data"
    }
   ],
   "source": [
    "import matplotlib.pyplot as plt\n",
    "\n",
    "loss = history.history['loss']\n",
    "val_loss = history.history['val_loss']\n",
    "\n",
    "epochs = range(1,len(loss)+1)\n",
    "\n",
    "plt.figure()\n",
    "plt.plot(epochs,loss,'bo',label='Training loss')\n",
    "plt.plot(epochs,val_loss,'b',label='Validation loss')\n",
    "plt.title('Training and Validation loss')\n",
    "plt.legend()\n",
    "\n",
    "plt.show()"
   ]
  },
  {
   "cell_type": "code",
   "execution_count": 15,
   "metadata": {},
   "outputs": [],
   "source": [
    "step = 3\n",
    "lookback = 720\n",
    "delay =144\n",
    "\n",
    "train_gen = generator(float_data,\n",
    "            lookback=lookback,\n",
    "            delay=delay,\n",
    "            min_index=0,\n",
    "            max_index=200000,\n",
    "            shuffle=True,\n",
    "            step=step)\n",
    "\n",
    "val_gen = generator(float_data,\n",
    "                   lookback=lookback,\n",
    "                   delay=delay,\n",
    "                   min_index=200001,\n",
    "                   max_index=300000,\n",
    "                   step=step)\n",
    "test_gen = generator(float_data,\n",
    "                     lookback=lookback,\n",
    "                    delay=delay,\n",
    "                    min_index=300001,\n",
    "                    max_index=None,\n",
    "                    step=step)\n",
    "\n",
    "val_steps= (300000 - 200001- lookback) // 128\n",
    "test_steps = (len(float_data)-300001 - lookback) // 128"
   ]
  },
  {
   "cell_type": "code",
   "execution_count": 16,
   "metadata": {},
   "outputs": [
    {
     "name": "stdout",
     "output_type": "stream",
     "text": [
      "WARNING:tensorflow:Layer gru_4 will not use cuDNN kernel since it doesn't meet the cuDNN kernel criteria. It will use generic GPU kernel as fallback when running on GPU\n",
      "Model: \"sequential_5\"\n",
      "_________________________________________________________________\n",
      "Layer (type)                 Output Shape              Param #   \n",
      "=================================================================\n",
      "conv1d_11 (Conv1D)           (None, None, 32)          2272      \n",
      "_________________________________________________________________\n",
      "max_pooling1d_6 (MaxPooling1 (None, None, 32)          0         \n",
      "_________________________________________________________________\n",
      "conv1d_12 (Conv1D)           (None, None, 32)          5152      \n",
      "_________________________________________________________________\n",
      "gru_4 (GRU)                  (None, 32)                6336      \n",
      "_________________________________________________________________\n",
      "dense_5 (Dense)              (None, 1)                 33        \n",
      "=================================================================\n",
      "Total params: 13,793\n",
      "Trainable params: 13,793\n",
      "Non-trainable params: 0\n",
      "_________________________________________________________________\n",
      "Epoch 1/20\n",
      "500/500 [==============================] - 252s 503ms/step - loss: 0.3312 - val_loss: 0.2880\n",
      "Epoch 2/20\n",
      "500/500 [==============================] - 245s 489ms/step - loss: 0.2930 - val_loss: 0.2775\n",
      "Epoch 3/20\n",
      "500/500 [==============================] - 239s 478ms/step - loss: 0.2825 - val_loss: 0.2744\n",
      "Epoch 4/20\n",
      "500/500 [==============================] - 241s 481ms/step - loss: 0.2743 - val_loss: 0.2707\n",
      "Epoch 5/20\n",
      "500/500 [==============================] - 239s 479ms/step - loss: 0.2670 - val_loss: 0.2750\n",
      "Epoch 6/20\n",
      "500/500 [==============================] - 241s 482ms/step - loss: 0.2625 - val_loss: 0.2757\n",
      "Epoch 7/20\n",
      "500/500 [==============================] - 240s 480ms/step - loss: 0.2556 - val_loss: 0.2796\n",
      "Epoch 8/20\n",
      "500/500 [==============================] - 246s 491ms/step - loss: 0.2516 - val_loss: 0.2808\n",
      "Epoch 9/20\n",
      "500/500 [==============================] - 241s 481ms/step - loss: 0.2472 - val_loss: 0.2788\n",
      "Epoch 10/20\n",
      "500/500 [==============================] - 240s 481ms/step - loss: 0.2421 - val_loss: 0.2856\n",
      "Epoch 11/20\n",
      "500/500 [==============================] - 240s 479ms/step - loss: 0.2396 - val_loss: 0.2799\n",
      "Epoch 12/20\n",
      "500/500 [==============================] - 239s 478ms/step - loss: 0.2339 - val_loss: 0.2917\n",
      "Epoch 13/20\n",
      "500/500 [==============================] - 238s 477ms/step - loss: 0.2307 - val_loss: 0.2891\n",
      "Epoch 14/20\n",
      "500/500 [==============================] - 243s 486ms/step - loss: 0.2271 - val_loss: 0.2975\n",
      "Epoch 15/20\n",
      "500/500 [==============================] - 239s 478ms/step - loss: 0.2235 - val_loss: 0.2929\n",
      "Epoch 16/20\n",
      "500/500 [==============================] - 239s 479ms/step - loss: 0.2213 - val_loss: 0.2926\n",
      "Epoch 17/20\n",
      "500/500 [==============================] - 237s 475ms/step - loss: 0.2192 - val_loss: 0.3016\n",
      "Epoch 18/20\n",
      "500/500 [==============================] - 243s 486ms/step - loss: 0.2154 - val_loss: 0.3012\n",
      "Epoch 19/20\n",
      "500/500 [==============================] - 240s 480ms/step - loss: 0.2138 - val_loss: 0.3025\n",
      "Epoch 20/20\n",
      "500/500 [==============================] - 240s 481ms/step - loss: 0.2109 - val_loss: 0.3064\n"
     ]
    }
   ],
   "source": [
    "from keras.models import Sequential\n",
    "from keras import layers\n",
    "from keras.optimizers import RMSprop\n",
    "\n",
    "model = Sequential()\n",
    "model.add(layers.Conv1D(32,5, activation='relu',\n",
    "                        input_shape=(None,float_data.shape[-1])))\n",
    "model.add(layers.MaxPooling1D(3))\n",
    "model.add(layers.Conv1D(32,5, activation='relu'))\n",
    "model.add(layers.GRU(32, dropout=0.1,recurrent_dropout=0.5))\n",
    "model.add(layers.Dense(1))\n",
    "\n",
    "model.summary()\n",
    "\n",
    "model.compile(optimizer=RMSprop(),loss='mae')\n",
    "history = model.fit_generator(train_gen,\n",
    "                   steps_per_epoch=500,\n",
    "                   epochs=20,\n",
    "                   validation_data=val_gen,\n",
    "                   validation_steps=val_steps)"
   ]
  },
  {
   "cell_type": "code",
   "execution_count": null,
   "metadata": {},
   "outputs": [],
   "source": []
  }
 ],
 "metadata": {
  "kernelspec": {
   "display_name": "Python 3",
   "language": "python",
   "name": "python3"
  },
  "language_info": {
   "codemirror_mode": {
    "name": "ipython",
    "version": 3
   },
   "file_extension": ".py",
   "mimetype": "text/x-python",
   "name": "python",
   "nbconvert_exporter": "python",
   "pygments_lexer": "ipython3",
   "version": "3.7.4"
  }
 },
 "nbformat": 4,
 "nbformat_minor": 2
}
